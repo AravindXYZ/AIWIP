{
 "cells": [
  {
   "cell_type": "code",
   "execution_count": 2,
   "id": "3cb4ccaf-bb40-472b-b533-146d88e3e08a",
   "metadata": {},
   "outputs": [],
   "source": [
    "import pickle\n",
    "import pandas as pd"
   ]
  },
  {
   "cell_type": "code",
   "execution_count": 3,
   "id": "38647fb3-d7f8-4aba-821f-67f4f8f03843",
   "metadata": {},
   "outputs": [],
   "source": [
    "rootPath = \"../../../../\"#change your rootpath here."
   ]
  },
  {
   "cell_type": "code",
   "execution_count": 4,
   "id": "fc51f7b8-d305-40ed-bbf4-21930cf89433",
   "metadata": {},
   "outputs": [],
   "source": [
    "age_input=float(input(\"Age:\"))\n",
    "bmi_input=float(input(\"BMI:\"))\n",
    "children_input=float(input(\"Children:\"))\n",
    "sex_male_input=int(input(\"Sex Male 0 or 1:\"))\n",
    "smoker_yes_input=int(input(\"Smoker Yes 0 or 1:\"))"
   ]
  },
  {
   "cell_type": "code",
   "execution_count": 5,
   "id": "9f48d5be-db3a-418f-a04d-8796f4d06cde",
   "metadata": {},
   "outputs": [
    {
     "name": "stdout",
     "output_type": "stream",
     "text": [
      "Future_Prediction=[9765.61]\n"
     ]
    }
   ],
   "source": [
    "loaded_model=pickle.load(open(rootPath+\"Deployed/RFGridDirect.sav\",'rb'))\n",
    "data=[[age_input,bmi_input,children_input,sex_male_input,smoker_yes_input]]\n",
    "df=pd.DataFrame(data,columns=['age','bmi','children','sex_male','smoker_yes'])\n",
    "Future_Prediction=loaded_model.predict(df)\n",
    "print(\"Future_Prediction={}\".format(Future_Prediction))"
   ]
  }
 ],
 "metadata": {
  "kernelspec": {
   "display_name": "base",
   "language": "python",
   "name": "python3"
  },
  "language_info": {
   "codemirror_mode": {
    "name": "ipython",
    "version": 3
   },
   "file_extension": ".py",
   "mimetype": "text/x-python",
   "name": "python",
   "nbconvert_exporter": "python",
   "pygments_lexer": "ipython3",
   "version": "3.12.7"
  }
 },
 "nbformat": 4,
 "nbformat_minor": 5
}
