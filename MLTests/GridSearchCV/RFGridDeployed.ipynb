{
 "cells": [
  {
   "cell_type": "code",
   "execution_count": 5,
   "id": "1fee3bf6-2575-4c6c-bff1-4ffa68bf030e",
   "metadata": {},
   "outputs": [],
   "source": [
    "import pickle\n",
    "import pandas as pd"
   ]
  },
  {
   "cell_type": "code",
   "execution_count": 6,
   "id": "ef0dd399-e729-4a55-aec3-af188080bb19",
   "metadata": {},
   "outputs": [],
   "source": [
    "rootPath = \"../../../../\"#change your rootpath here."
   ]
  },
  {
   "cell_type": "code",
   "execution_count": 7,
   "id": "ff60f7da-cc2c-4720-8b5b-7ba2322beefa",
   "metadata": {},
   "outputs": [],
   "source": [
    "age_input=float(input(\"Age:\"))\n",
    "bmi_input=float(input(\"BMI:\"))\n",
    "children_input=float(input(\"Children:\"))\n",
    "sex_male_input=int(input(\"Sex Male 0 or 1:\"))\n",
    "smoker_yes_input=int(input(\"Smoker Yes 0 or 1:\"))"
   ]
  },
  {
   "cell_type": "code",
   "execution_count": 23,
   "id": "4f445c76-630a-4c4b-b771-55b9747638d9",
   "metadata": {},
   "outputs": [
    {
     "name": "stdout",
     "output_type": "stream",
     "text": [
      "Future_Prediction=[1694.]\n"
     ]
    }
   ],
   "source": [
    "loaded_model=pickle.load(open(rootPath+\"Deployed/DTRGrid.sav\",'rb'))\n",
    "sc=pickle.load(open(rootPath+\"Deployed/StandardScaler.sav\",'rb'))\n",
    "data=[[age_input,bmi_input,children_input,sex_male_input,smoker_yes_input]]\n",
    "fields=['age','bmi','children','sex_male','smoker_yes']\n",
    "df=pd.DataFrame(data,columns=fields)\n",
    "preinput=sc.transform(df)\n",
    "newdf=pd.DataFrame(preinput,columns=fields)\n",
    "Future_Prediction=loaded_model.predict(newdf)\n",
    "print(\"Future_Prediction={}\".format(Future_Prediction))"
   ]
  }
 ],
 "metadata": {
  "kernelspec": {
   "display_name": "base",
   "language": "python",
   "name": "python3"
  },
  "language_info": {
   "codemirror_mode": {
    "name": "ipython",
    "version": 3
   },
   "file_extension": ".py",
   "mimetype": "text/x-python",
   "name": "python",
   "nbconvert_exporter": "python",
   "pygments_lexer": "ipython3",
   "version": "3.12.7"
  }
 },
 "nbformat": 4,
 "nbformat_minor": 5
}
