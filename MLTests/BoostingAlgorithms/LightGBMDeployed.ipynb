{
 "cells": [
  {
   "cell_type": "code",
   "execution_count": null,
   "id": "b93b3d62-0ebf-4a02-b38a-c4669d750b5e",
   "metadata": {},
   "outputs": [],
   "source": [
    "import pickle\n",
    "import pandas as pd"
   ]
  },
  {
   "cell_type": "code",
   "execution_count": null,
   "id": "282c53f5-ce89-4146-b5c4-31bed72cf73f",
   "metadata": {},
   "outputs": [],
   "source": [
    "rootPath = \"../../../../\"#change your rootpath here.\n",
    "loaded_model=pickle.load(open(rootPath+\"Deployed/MLRLightGBM.sav\",'rb'))\n",
    "data=[[30, 25, 2, 1, 0],[45, 30, 0, 0, 1]]\n",
    "df=pd.DataFrame(data,columns=['age', 'bmi', 'children', 'sex_male', 'smoker_yes'])\n",
    "result=loaded_model.predict(df)"
   ]
  },
  {
   "cell_type": "code",
   "execution_count": 5,
   "id": "e28c7ed1-29a9-4ad3-86c1-b1f6987b8982",
   "metadata": {},
   "outputs": [
    {
     "data": {
      "text/plain": [
       "array([19725.47901373])"
      ]
     },
     "execution_count": 5,
     "metadata": {},
     "output_type": "execute_result"
    }
   ],
   "source": [
    "result"
   ]
  },
  {
   "cell_type": "code",
   "execution_count": null,
   "id": "623222fa-f572-4a31-a944-cdde6052ad00",
   "metadata": {},
   "outputs": [],
   "source": []
  }
 ],
 "metadata": {
  "kernelspec": {
   "display_name": "Python [conda env:base] *",
   "language": "python",
   "name": "conda-base-py"
  },
  "language_info": {
   "codemirror_mode": {
    "name": "ipython",
    "version": 3
   },
   "file_extension": ".py",
   "mimetype": "text/x-python",
   "name": "python",
   "nbconvert_exporter": "python",
   "pygments_lexer": "ipython3",
   "version": "3.12.9"
  }
 },
 "nbformat": 4,
 "nbformat_minor": 5
}
