{
 "cells": [
  {
   "cell_type": "code",
   "execution_count": null,
   "id": "cf526f67",
   "metadata": {},
   "outputs": [],
   "source": [
    "import pickle\n",
    "import pandas as pd\n",
    "rootPath = \"../../../../../\"\n",
    "filename=rootPath+\"Deployed/CKD_DT_Grid.sav\"\n",
    "loaded_model=pickle.load(open(filename,'rb'))\n",
    "testdata=[[23,12,10,13,120,34,98,45,76,66,76,80,12,62,63,86,45,0,1,0,1,0,1,0,1,0,1]]\n",
    "df=pd.DataFrame(testdata,columns=['age', 'bp', 'al', 'su', 'bgr', 'bu', 'sc', 'sod', 'pot', 'hrmo', 'pcv',\n",
    "       'wc', 'rc', 'sg_b', 'sg_c', 'sg_d', 'sg_e', 'rbc_normal', 'pc_normal','pcc_present', 'ba_present', 'htn_yes', 'dm_yes', 'cad_yes','appet_yes', 'pe_yes', 'ane_yes'])\n",
    "result=loaded_model.predict(df)"
   ]
  },
  {
   "cell_type": "code",
   "execution_count": 2,
   "id": "00c73f02",
   "metadata": {},
   "outputs": [
    {
     "data": {
      "text/plain": [
       "array([ True])"
      ]
     },
     "execution_count": 2,
     "metadata": {},
     "output_type": "execute_result"
    }
   ],
   "source": [
    "result"
   ]
  }
 ],
 "metadata": {
  "kernelspec": {
   "display_name": "base",
   "language": "python",
   "name": "python3"
  },
  "language_info": {
   "codemirror_mode": {
    "name": "ipython",
    "version": 3
   },
   "file_extension": ".py",
   "mimetype": "text/x-python",
   "name": "python",
   "nbconvert_exporter": "python",
   "pygments_lexer": "ipython3",
   "version": "3.12.7"
  }
 },
 "nbformat": 4,
 "nbformat_minor": 5
}
