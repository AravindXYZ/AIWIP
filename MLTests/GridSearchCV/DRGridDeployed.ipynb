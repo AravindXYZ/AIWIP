{
 "cells": [
  {
   "cell_type": "code",
   "execution_count": 7,
   "id": "c528c5d5-6048-4589-a4c5-928867659492",
   "metadata": {},
   "outputs": [],
   "source": [
    "import pickle\n",
    "import pandas as pd"
   ]
  },
  {
   "cell_type": "code",
   "execution_count": null,
   "id": "629a8dae-9fc8-49fe-b857-fc57e65e1323",
   "metadata": {},
   "outputs": [],
   "source": [
    "rootPath = \"../../../../\"#change your rootpath here."
   ]
  },
  {
   "cell_type": "code",
   "execution_count": 9,
   "id": "6cb3d85e-d522-41dc-8bae-ca4c0470b222",
   "metadata": {},
   "outputs": [],
   "source": [
    "age_input=float(input(\"Age:\"))\n",
    "bmi_input=float(input(\"BMI:\"))\n",
    "children_input=int(input(\"Children:\"))\n",
    "sex_male_input=int(input(\"Sex Male 0 or 1:\"))\n",
    "smoker_yes_input=int(input(\"Smoker Yes 0 or 1:\"))"
   ]
  },
  {
   "cell_type": "code",
   "execution_count": null,
   "id": "85793c45-7e42-49c9-a0a8-0ed6200eac81",
   "metadata": {},
   "outputs": [
    {
     "name": "stdout",
     "output_type": "stream",
     "text": [
      "Future_Prediction=[3994.]\n"
     ]
    }
   ],
   "source": [
    "loaded_model=pickle.load(open(rootPath+\"Deployed/DTRGrid.sav\",'rb'))\n",
    "data=[[age_input,bmi_input,children_input,sex_male_input,smoker_yes_input]]\n",
    "df=pd.DataFrame(data,columns=['age','bmi','children','sex_male','smoker_yes'])\n",
    "Future_Prediction=loaded_model.predict(df)\n",
    "print(\"Future_Prediction={}\".format(Future_Prediction))"
   ]
  }
 ],
 "metadata": {
  "kernelspec": {
   "display_name": "base",
   "language": "python",
   "name": "python3"
  },
  "language_info": {
   "codemirror_mode": {
    "name": "ipython",
    "version": 3
   },
   "file_extension": ".py",
   "mimetype": "text/x-python",
   "name": "python",
   "nbconvert_exporter": "python",
   "pygments_lexer": "ipython3",
   "version": "3.12.7"
  }
 },
 "nbformat": 4,
 "nbformat_minor": 5
}
