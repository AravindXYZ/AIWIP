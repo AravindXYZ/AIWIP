{
 "cells": [
  {
   "cell_type": "code",
   "execution_count": 6,
   "id": "8d4fbc21-f694-4ad5-a76b-7c2ed8a372b2",
   "metadata": {},
   "outputs": [],
   "source": [
    "import pickle\n",
    "import pandas as pd"
   ]
  },
  {
   "cell_type": "code",
   "execution_count": null,
   "id": "ea190719-d4ff-4b8f-af8c-5b2ad7a87e46",
   "metadata": {},
   "outputs": [],
   "source": [
    "rootPath = \"../../../../\"#change your rootpath here.\n",
    "loaded_model=pickle.load(open(rootPath+\"Deployed/MLRAdaBoost.sav\",'rb'))\n",
    "data=[[30, 25, 2, 1, 0],[45, 30, 0, 0, 1]]\n",
    "df=pd.DataFrame(data,columns=['age', 'bmi', 'children', 'sex_male', 'smoker_yes'])\n",
    "result=loaded_model.predict(df)"
   ]
  },
  {
   "cell_type": "code",
   "execution_count": 8,
   "id": "3d9ade66-cc42-4c88-9e6f-c12dd2c37061",
   "metadata": {},
   "outputs": [
    {
     "data": {
      "text/plain": [
       "array([ 7004.49350649, 46261.02631579])"
      ]
     },
     "execution_count": 8,
     "metadata": {},
     "output_type": "execute_result"
    }
   ],
   "source": [
    "result"
   ]
  },
  {
   "cell_type": "code",
   "execution_count": null,
   "id": "a421f399-a306-4b22-a0fe-24547145d4f1",
   "metadata": {},
   "outputs": [],
   "source": []
  }
 ],
 "metadata": {
  "kernelspec": {
   "display_name": "base",
   "language": "python",
   "name": "python3"
  },
  "language_info": {
   "codemirror_mode": {
    "name": "ipython",
    "version": 3
   },
   "file_extension": ".py",
   "mimetype": "text/x-python",
   "name": "python",
   "nbconvert_exporter": "python",
   "pygments_lexer": "ipython3",
   "version": "3.12.7"
  }
 },
 "nbformat": 4,
 "nbformat_minor": 5
}
